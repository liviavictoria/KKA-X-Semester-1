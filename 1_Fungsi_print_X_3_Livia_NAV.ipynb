{
  "nbformat": 4,
  "nbformat_minor": 0,
  "metadata": {
    "colab": {
      "provenance": [],
      "authorship_tag": "ABX9TyOlwQwDA2UergyXb0OgKvx/",
      "include_colab_link": true
    },
    "kernelspec": {
      "name": "python3",
      "display_name": "Python 3"
    },
    "language_info": {
      "name": "python"
    }
  },
  "cells": [
    {
      "cell_type": "markdown",
      "metadata": {
        "id": "view-in-github",
        "colab_type": "text"
      },
      "source": [
        "<a href=\"https://colab.research.google.com/github/liviavictoria/KKA-X-Semester-1/blob/main/1_Fungsi_print_X_3_Livia_NAV.ipynb\" target=\"_parent\"><img src=\"https://colab.research.google.com/assets/colab-badge.svg\" alt=\"Open In Colab\"/></a>"
      ]
    },
    {
      "cell_type": "markdown",
      "source": [
        "nama: Livia Nareswari Angie Victoria\n",
        "\n",
        "kelas: X.3\n",
        "\n",
        "absen: 16"
      ],
      "metadata": {
        "id": "oad7fFLpiMpZ"
      }
    },
    {
      "cell_type": "markdown",
      "source": [
        "#Menampilkan teks bebas (String)"
      ],
      "metadata": {
        "id": "4FSxSjkfmEoI"
      }
    },
    {
      "cell_type": "code",
      "source": [
        "print(\"Livia nareswari angie victoria\")"
      ],
      "metadata": {
        "id": "9y5hWX8ClNhU",
        "colab": {
          "base_uri": "https://localhost:8080/"
        },
        "outputId": "f95a5d61-6425-4e97-a8f9-54d2dc339116"
      },
      "execution_count": null,
      "outputs": [
        {
          "output_type": "stream",
          "name": "stdout",
          "text": [
            "Livia nareswari angie victoria\n"
          ]
        }
      ]
    },
    {
      "cell_type": "code",
      "source": [
        "print('Livia nareswari angie victoria')"
      ],
      "metadata": {
        "colab": {
          "base_uri": "https://localhost:8080/"
        },
        "id": "UjxMD2zMlv0C",
        "outputId": "c0144adf-6623-445e-880e-02efc0f6f82d"
      },
      "execution_count": null,
      "outputs": [
        {
          "output_type": "stream",
          "name": "stdout",
          "text": [
            "Livia nareswari angie victoria\n"
          ]
        }
      ]
    },
    {
      "cell_type": "markdown",
      "source": [
        "#Menampilkan nilai variabel"
      ],
      "metadata": {
        "id": "XLqoswXBmWl5"
      }
    },
    {
      "cell_type": "code",
      "source": [
        "Nama = \"Livia Nareswari Angie Victoria\"\n",
        "usia = 14"
      ],
      "metadata": {
        "id": "I6i0gPDxnCF9"
      },
      "execution_count": null,
      "outputs": []
    },
    {
      "cell_type": "code",
      "source": [
        "print(Nama)"
      ],
      "metadata": {
        "colab": {
          "base_uri": "https://localhost:8080/"
        },
        "id": "skLp5LV4ndQX",
        "outputId": "5d513e6c-e53f-4823-acb5-db402f8ed7f7"
      },
      "execution_count": null,
      "outputs": [
        {
          "output_type": "stream",
          "name": "stdout",
          "text": [
            "Livia Nareswari Angie Victoria\n"
          ]
        }
      ]
    },
    {
      "cell_type": "code",
      "source": [
        "print(\"Nama\")"
      ],
      "metadata": {
        "colab": {
          "base_uri": "https://localhost:8080/"
        },
        "id": "7aX1qIx0nlKt",
        "outputId": "ea85c054-4b7c-4fd3-9a52-1eff94571637"
      },
      "execution_count": null,
      "outputs": [
        {
          "output_type": "stream",
          "name": "stdout",
          "text": [
            "Nama\n"
          ]
        }
      ]
    },
    {
      "cell_type": "code",
      "source": [
        "print(usia)"
      ],
      "metadata": {
        "colab": {
          "base_uri": "https://localhost:8080/"
        },
        "id": "a92m-DWQnvC4",
        "outputId": "32865656-c4ba-45b6-d449-a2024d0094fc"
      },
      "execution_count": null,
      "outputs": [
        {
          "output_type": "stream",
          "name": "stdout",
          "text": [
            "14\n"
          ]
        }
      ]
    },
    {
      "cell_type": "code",
      "source": [
        "print(\"usia\")"
      ],
      "metadata": {
        "colab": {
          "base_uri": "https://localhost:8080/"
        },
        "id": "_YTdS1z-nzvv",
        "outputId": "dfe3a6aa-8bf2-42e3-a02b-911bd60550c9"
      },
      "execution_count": null,
      "outputs": [
        {
          "output_type": "stream",
          "name": "stdout",
          "text": [
            "usia\n"
          ]
        }
      ]
    },
    {
      "cell_type": "code",
      "source": [
        "berat_badan = 48"
      ],
      "metadata": {
        "id": "D5DYBWBAvSOa"
      },
      "execution_count": null,
      "outputs": []
    },
    {
      "cell_type": "code",
      "source": [
        "print(berat_badan)"
      ],
      "metadata": {
        "colab": {
          "base_uri": "https://localhost:8080/"
        },
        "id": "1f7Z6Gn5vpiV",
        "outputId": "83b0d145-5712-4d80-c12d-b80aad69986f"
      },
      "execution_count": null,
      "outputs": [
        {
          "output_type": "stream",
          "name": "stdout",
          "text": [
            "48\n"
          ]
        }
      ]
    },
    {
      "cell_type": "code",
      "source": [
        "nama_saudara = \"Ardhia Pramesty Ajeng Kirani\""
      ],
      "metadata": {
        "id": "O8pOzJNvvwv4"
      },
      "execution_count": null,
      "outputs": []
    },
    {
      "cell_type": "code",
      "source": [
        "print(nama_saudara)"
      ],
      "metadata": {
        "colab": {
          "base_uri": "https://localhost:8080/"
        },
        "id": "T1nqqpdSwAUW",
        "outputId": "afdb3a2d-496e-487c-85ba-fe07c0fdd067"
      },
      "execution_count": null,
      "outputs": [
        {
          "output_type": "stream",
          "name": "stdout",
          "text": [
            "Ardhia Pramesty Ajeng Kirani\n"
          ]
        }
      ]
    },
    {
      "cell_type": "markdown",
      "source": [
        "#Menampilkan Nilai Variabel dan Teks Bebas"
      ],
      "metadata": {
        "id": "MOVYo84ksgzA"
      }
    },
    {
      "cell_type": "code",
      "source": [
        "print(\"Halo nama saya\",Nama,\". Usia saya\",usia,\" tahun.\")"
      ],
      "metadata": {
        "colab": {
          "base_uri": "https://localhost:8080/"
        },
        "id": "DnrijUb7szVs",
        "outputId": "15f46a4a-3b0c-4dad-b05d-54bbae782844"
      },
      "execution_count": null,
      "outputs": [
        {
          "output_type": "stream",
          "name": "stdout",
          "text": [
            "Halo nama saya Livia Nareswari Angie Victoria . Usia saya 14  tahun.\n"
          ]
        }
      ]
    },
    {
      "cell_type": "code",
      "source": [
        "print(\"Halo nama saya \"+Nama+\". Usia saya \"+str(usia)+\" tahun.\")"
      ],
      "metadata": {
        "colab": {
          "base_uri": "https://localhost:8080/"
        },
        "id": "Tw3qyRCjtvWL",
        "outputId": "adaafa90-d826-4e3d-d9fb-77c227110eb4"
      },
      "execution_count": null,
      "outputs": [
        {
          "output_type": "stream",
          "name": "stdout",
          "text": [
            "Halo nama saya Livia Nareswari Angie Victoria. Usia saya 14 tahun.\n"
          ]
        }
      ]
    },
    {
      "cell_type": "code",
      "source": [
        "print(f\"Halo nama saya {Nama}. Usia saya {usia} tahun.\")"
      ],
      "metadata": {
        "colab": {
          "base_uri": "https://localhost:8080/"
        },
        "id": "nKrQrYKiuZ31",
        "outputId": "203fb6b8-b6da-4e33-93e4-f0c5244b5ea4"
      },
      "execution_count": null,
      "outputs": [
        {
          "output_type": "stream",
          "name": "stdout",
          "text": [
            "Halo nama saya Livia Nareswari Angie Victoria. Usia saya 14 tahun.\n"
          ]
        }
      ]
    },
    {
      "cell_type": "code",
      "source": [
        "print(\"Nama saudara saya adalah\",nama_saudara,\". Berat badannya adalah\",berat_badan,\".\")"
      ],
      "metadata": {
        "colab": {
          "base_uri": "https://localhost:8080/"
        },
        "id": "QznpKkP5vCal",
        "outputId": "0638b6dc-cc65-45ad-9773-76c0a758fb64"
      },
      "execution_count": null,
      "outputs": [
        {
          "output_type": "stream",
          "name": "stdout",
          "text": [
            "Nama saudara saya adalah Ardhia Pramesty Ajeng Kirani . Berat badannya adalah 48 .\n"
          ]
        }
      ]
    },
    {
      "cell_type": "code",
      "source": [
        "print(\"Nama saudara saya adalah \"+nama_saudara+\". Berat badannya adalah \"+str(berat_badan)+\".\")"
      ],
      "metadata": {
        "colab": {
          "base_uri": "https://localhost:8080/"
        },
        "id": "X6GXyILRwzZK",
        "outputId": "48d6f0a2-13f2-4c0b-fc58-06eb46f0ea81"
      },
      "execution_count": null,
      "outputs": [
        {
          "output_type": "stream",
          "name": "stdout",
          "text": [
            "Nama saudara saya adalah Ardhia Pramesty Ajeng Kirani. Berat badannya adalah 48.\n"
          ]
        }
      ]
    },
    {
      "cell_type": "code",
      "source": [
        "print(f\"Nama saudara saya adalah {nama_saudara}. Berat badannya adalah {berat_badan}.\")"
      ],
      "metadata": {
        "colab": {
          "base_uri": "https://localhost:8080/"
        },
        "id": "zJZssjqxxYqs",
        "outputId": "9dd39184-1705-40f9-80f1-648cc5f89b8e"
      },
      "execution_count": null,
      "outputs": [
        {
          "output_type": "stream",
          "name": "stdout",
          "text": [
            "Nama saudara saya adalah Ardhia Pramesty Ajeng Kirani. Berat badannya adalah 48.\n"
          ]
        }
      ]
    },
    {
      "cell_type": "markdown",
      "source": [
        "#Escape Character"
      ],
      "metadata": {
        "id": "-AqMXNN3ts-J"
      }
    },
    {
      "cell_type": "code",
      "source": [
        "print(\"Nama: Livia Nareswari AV\n",
        "Kelas: X.3\n",
        "No. absen: 16\")"
      ],
      "metadata": {
        "colab": {
          "base_uri": "https://localhost:8080/",
          "height": 145
        },
        "id": "DJF3NySZt1DP",
        "outputId": "84fd7416-7369-4b16-e599-08eef865f4e4"
      },
      "execution_count": null,
      "outputs": [
        {
          "output_type": "error",
          "ename": "SyntaxError",
          "evalue": "unterminated string literal (detected at line 1) (ipython-input-1295211296.py, line 1)",
          "traceback": [
            "\u001b[0;36m  File \u001b[0;32m\"/tmp/ipython-input-1295211296.py\"\u001b[0;36m, line \u001b[0;32m1\u001b[0m\n\u001b[0;31m    print(\"Nama: Livia Nareswari AV\u001b[0m\n\u001b[0m          ^\u001b[0m\n\u001b[0;31mSyntaxError\u001b[0m\u001b[0;31m:\u001b[0m unterminated string literal (detected at line 1)\n"
          ]
        }
      ]
    },
    {
      "cell_type": "code",
      "source": [
        "print(\"Nama: Livia Nareswari AV\")\n",
        "print(\"kelas: X.3\")\n",
        "print(\"No. absen: 16\")"
      ],
      "metadata": {
        "colab": {
          "base_uri": "https://localhost:8080/"
        },
        "id": "0o3QBpbhuToP",
        "outputId": "bbcd9ada-7c56-40c8-a905-1b0b9db41e71"
      },
      "execution_count": null,
      "outputs": [
        {
          "output_type": "stream",
          "name": "stdout",
          "text": [
            "Nama: Livia Nareswari AV\n",
            "kelas: X.3\n",
            "No. absen: 16\n"
          ]
        }
      ]
    },
    {
      "cell_type": "code",
      "source": [
        "print(\"Nama: Livia Nareswari AV\\nKelas: X.3\\nNo. absen:16\")"
      ],
      "metadata": {
        "colab": {
          "base_uri": "https://localhost:8080/"
        },
        "id": "FyEsYCoxvNnK",
        "outputId": "7b8ca1c0-692e-4b79-ff48-4c3b2830cc82"
      },
      "execution_count": null,
      "outputs": [
        {
          "output_type": "stream",
          "name": "stdout",
          "text": [
            "Nama: Livia Nareswari AV\n",
            "Kelas: X.3\n",
            "No. absen:16\n"
          ]
        }
      ]
    },
    {
      "cell_type": "code",
      "source": [
        "print(\"\"\"Nama: Livia Nareswari AV\n",
        "Kelas: X.3\n",
        "No. absen: 16\"\"\")"
      ],
      "metadata": {
        "colab": {
          "base_uri": "https://localhost:8080/"
        },
        "id": "bU9gn-TQvjpd",
        "outputId": "e330f516-790b-46ce-9598-02a927f97b14"
      },
      "execution_count": null,
      "outputs": [
        {
          "output_type": "stream",
          "name": "stdout",
          "text": [
            "Nama: Livia Nareswari AV\n",
            "Kelas: X.3\n",
            "No. absen: 16\n"
          ]
        }
      ]
    },
    {
      "cell_type": "code",
      "source": [
        "print(\"\"\"Nama\\t\\t: Livia Nareswari AV\n",
        "Kelas\\t\\t: X.3\n",
        "No. absen\\t: 16\"\"\")"
      ],
      "metadata": {
        "colab": {
          "base_uri": "https://localhost:8080/"
        },
        "id": "3piAqAYMwFlZ",
        "outputId": "ccacf2b6-99b6-4f50-b8a2-4d88ecefc6fa"
      },
      "execution_count": null,
      "outputs": [
        {
          "output_type": "stream",
          "name": "stdout",
          "text": [
            "Nama\t\t: Livia Nareswari AV\n",
            "Kelas\t\t: X.3\n",
            "No. absen\t: 16\n"
          ]
        }
      ]
    },
    {
      "cell_type": "code",
      "source": [
        "print(\"Nama: Habibie Ainun\")"
      ],
      "metadata": {
        "colab": {
          "base_uri": "https://localhost:8080/"
        },
        "id": "_WaMLDrDwsAN",
        "outputId": "18a08a94-7f69-479f-b4ab-9cd39b53c4fd"
      },
      "execution_count": null,
      "outputs": [
        {
          "output_type": "stream",
          "name": "stdout",
          "text": [
            "Nama: Habibie Ainun\n"
          ]
        }
      ]
    },
    {
      "cell_type": "code",
      "source": [
        "print('Nama: Habibie Ainun')"
      ],
      "metadata": {
        "colab": {
          "base_uri": "https://localhost:8080/"
        },
        "id": "zm7x1n5Ww3Dj",
        "outputId": "90419f2b-57b7-44e7-93ea-fbdaf2ba2348"
      },
      "execution_count": null,
      "outputs": [
        {
          "output_type": "stream",
          "name": "stdout",
          "text": [
            "Nama: Habibie Ainun\n"
          ]
        }
      ]
    },
    {
      "cell_type": "code",
      "source": [
        "print('Nama: Habibie A\\'inun')"
      ],
      "metadata": {
        "colab": {
          "base_uri": "https://localhost:8080/"
        },
        "id": "9EFCY6hdxLYr",
        "outputId": "1f47b799-4be3-4913-bfce-5b97da67747e"
      },
      "execution_count": null,
      "outputs": [
        {
          "output_type": "stream",
          "name": "stdout",
          "text": [
            "Nama: Habibie A'inun\n"
          ]
        }
      ]
    },
    {
      "cell_type": "code",
      "source": [
        "print(\"Nama: Habibie A'inun\")"
      ],
      "metadata": {
        "colab": {
          "base_uri": "https://localhost:8080/"
        },
        "id": "lQ0NKSZLxMlo",
        "outputId": "73c44255-fec6-46fb-f4cc-483ecd357251"
      },
      "execution_count": null,
      "outputs": [
        {
          "output_type": "stream",
          "name": "stdout",
          "text": [
            "Nama: Habibie A'inun\n"
          ]
        }
      ]
    },
    {
      "cell_type": "code",
      "source": [
        "print(\"Bu Shinta berkata,\\\" Silakan lihat ke layar TV.\\\".\")"
      ],
      "metadata": {
        "colab": {
          "base_uri": "https://localhost:8080/"
        },
        "id": "aMnuOqtAxhbK",
        "outputId": "523845cf-3c98-4126-d326-97be01c12b7e"
      },
      "execution_count": null,
      "outputs": [
        {
          "output_type": "stream",
          "name": "stdout",
          "text": [
            "Bu Shinta berkata,\" Silakan lihat ke layar TV.\".\n"
          ]
        }
      ]
    },
    {
      "cell_type": "code",
      "source": [
        "print('Bu Shinta berkata, \"Silakan lihat ke layar TV\"')"
      ],
      "metadata": {
        "colab": {
          "base_uri": "https://localhost:8080/"
        },
        "id": "trKTf3q7xlog",
        "outputId": "5b5b9f17-08bd-428c-ac71-3a6624ec3c06"
      },
      "execution_count": null,
      "outputs": [
        {
          "output_type": "stream",
          "name": "stdout",
          "text": [
            "Bu Shinta berkata, \"Silakan lihat ke layar TV\"\n"
          ]
        }
      ]
    },
    {
      "cell_type": "code",
      "source": [
        "print(\"\"\"Nama file: Tugas KKA\n",
        "lokasi file: D:\\\\MAN Demak\\\\KKA\"\"\")"
      ],
      "metadata": {
        "colab": {
          "base_uri": "https://localhost:8080/"
        },
        "id": "u1ozOi-nyhll",
        "outputId": "507ce2e9-d75a-43fc-bfe5-fb7ffc00effb"
      },
      "execution_count": null,
      "outputs": [
        {
          "output_type": "stream",
          "name": "stdout",
          "text": [
            "Nama file: Tugas KKA\n",
            "lokasi file: D:\\MAN Demak\\KKA\n"
          ]
        }
      ]
    },
    {
      "cell_type": "code",
      "source": [
        "print('Nama file\\t: Ulangan Harian Ma\\'rifatullah\\nLokasi file\\t: D:\\\\Mata kuliah\\\\Ma\\'rifatullah')"
      ],
      "metadata": {
        "colab": {
          "base_uri": "https://localhost:8080/"
        },
        "id": "gU1ZNBCPzLJj",
        "outputId": "910f1ca5-9955-4c38-aa8b-7f01843bd173"
      },
      "execution_count": null,
      "outputs": [
        {
          "output_type": "stream",
          "name": "stdout",
          "text": [
            "Nama file\t: Ulangan Harian Ma'rifatullah\n",
            "Lokasi file\t: D:\\Mata kuliah\\Ma'rifatullah\n"
          ]
        }
      ]
    }
  ]
}